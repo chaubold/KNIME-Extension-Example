{
 "cells": [
  {
   "cell_type": "code",
   "execution_count": 17,
   "id": "6ae13825",
   "metadata": {},
   "outputs": [],
   "source": [
    "from sklearn.metrics import DistanceMetric\n",
    "from math import radians\n",
    "import pandas as pd\n",
    "import numpy as np\n",
    "\n",
    "cities_df_original = pd.DataFrame({\n",
    "    'city':['Bangalore','Mumbai','Delhi','Kolkatta','Chennai','Bhopal'],\n",
    "    'lat':[12.9716,19.076,28.7041,22.5726,13.0827,23.2599],\n",
    "    'lon':[77.5946,72.877,77.1025,88.639,80.2707,77.4126],})\n"
   ]
  },
  {
   "cell_type": "code",
   "execution_count": 18,
   "id": "9971908d",
   "metadata": {},
   "outputs": [
    {
     "data": {
      "text/html": [
       "<div>\n",
       "<style scoped>\n",
       "    .dataframe tbody tr th:only-of-type {\n",
       "        vertical-align: middle;\n",
       "    }\n",
       "\n",
       "    .dataframe tbody tr th {\n",
       "        vertical-align: top;\n",
       "    }\n",
       "\n",
       "    .dataframe thead th {\n",
       "        text-align: right;\n",
       "    }\n",
       "</style>\n",
       "<table border=\"1\" class=\"dataframe\">\n",
       "  <thead>\n",
       "    <tr style=\"text-align: right;\">\n",
       "      <th></th>\n",
       "      <th>city</th>\n",
       "      <th>lat</th>\n",
       "      <th>lon</th>\n",
       "    </tr>\n",
       "  </thead>\n",
       "  <tbody>\n",
       "    <tr>\n",
       "      <th>0</th>\n",
       "      <td>Bangalore</td>\n",
       "      <td>12.9716</td>\n",
       "      <td>77.5946</td>\n",
       "    </tr>\n",
       "    <tr>\n",
       "      <th>1</th>\n",
       "      <td>Mumbai</td>\n",
       "      <td>19.0760</td>\n",
       "      <td>72.8770</td>\n",
       "    </tr>\n",
       "    <tr>\n",
       "      <th>2</th>\n",
       "      <td>Delhi</td>\n",
       "      <td>28.7041</td>\n",
       "      <td>77.1025</td>\n",
       "    </tr>\n",
       "    <tr>\n",
       "      <th>3</th>\n",
       "      <td>Kolkatta</td>\n",
       "      <td>22.5726</td>\n",
       "      <td>88.6390</td>\n",
       "    </tr>\n",
       "    <tr>\n",
       "      <th>4</th>\n",
       "      <td>Chennai</td>\n",
       "      <td>13.0827</td>\n",
       "      <td>80.2707</td>\n",
       "    </tr>\n",
       "    <tr>\n",
       "      <th>5</th>\n",
       "      <td>Bhopal</td>\n",
       "      <td>23.2599</td>\n",
       "      <td>77.4126</td>\n",
       "    </tr>\n",
       "  </tbody>\n",
       "</table>\n",
       "</div>"
      ],
      "text/plain": [
       "        city      lat      lon\n",
       "0  Bangalore  12.9716  77.5946\n",
       "1     Mumbai  19.0760  72.8770\n",
       "2      Delhi  28.7041  77.1025\n",
       "3   Kolkatta  22.5726  88.6390\n",
       "4    Chennai  13.0827  80.2707\n",
       "5     Bhopal  23.2599  77.4126"
      ]
     },
     "execution_count": 18,
     "metadata": {},
     "output_type": "execute_result"
    }
   ],
   "source": [
    "cities_df_original"
   ]
  },
  {
   "cell_type": "code",
   "execution_count": 19,
   "id": "b77ba4e3",
   "metadata": {},
   "outputs": [],
   "source": [
    "requested_distances = pd.DataFrame({'from_city':['Bangalore','Mumbai','Delhi'],\n",
    "                                    'to_city':['Kolkatta','Chennai','Bhopal']})"
   ]
  },
  {
   "cell_type": "code",
   "execution_count": 20,
   "id": "4a555cd5",
   "metadata": {},
   "outputs": [
    {
     "data": {
      "text/html": [
       "<div>\n",
       "<style scoped>\n",
       "    .dataframe tbody tr th:only-of-type {\n",
       "        vertical-align: middle;\n",
       "    }\n",
       "\n",
       "    .dataframe tbody tr th {\n",
       "        vertical-align: top;\n",
       "    }\n",
       "\n",
       "    .dataframe thead th {\n",
       "        text-align: right;\n",
       "    }\n",
       "</style>\n",
       "<table border=\"1\" class=\"dataframe\">\n",
       "  <thead>\n",
       "    <tr style=\"text-align: right;\">\n",
       "      <th></th>\n",
       "      <th>from_city</th>\n",
       "      <th>to_city</th>\n",
       "    </tr>\n",
       "  </thead>\n",
       "  <tbody>\n",
       "    <tr>\n",
       "      <th>0</th>\n",
       "      <td>Bangalore</td>\n",
       "      <td>Kolkatta</td>\n",
       "    </tr>\n",
       "    <tr>\n",
       "      <th>1</th>\n",
       "      <td>Mumbai</td>\n",
       "      <td>Chennai</td>\n",
       "    </tr>\n",
       "    <tr>\n",
       "      <th>2</th>\n",
       "      <td>Delhi</td>\n",
       "      <td>Bhopal</td>\n",
       "    </tr>\n",
       "  </tbody>\n",
       "</table>\n",
       "</div>"
      ],
      "text/plain": [
       "   from_city   to_city\n",
       "0  Bangalore  Kolkatta\n",
       "1     Mumbai   Chennai\n",
       "2      Delhi    Bhopal"
      ]
     },
     "execution_count": 20,
     "metadata": {},
     "output_type": "execute_result"
    }
   ],
   "source": [
    "requested_distances"
   ]
  },
  {
   "cell_type": "code",
   "execution_count": 21,
   "id": "6d45e29b",
   "metadata": {},
   "outputs": [],
   "source": [
    "cities_df = cities_df_original.copy()\n",
    "cities_df['lat'] = np.radians(cities_df_original['lat'])\n",
    "cities_df['lon'] = np.radians(cities_df_original['lon'])"
   ]
  },
  {
   "cell_type": "code",
   "execution_count": 22,
   "id": "95eb102f",
   "metadata": {},
   "outputs": [],
   "source": [
    "dist = DistanceMetric.get_metric('haversine')"
   ]
  },
  {
   "cell_type": "code",
   "execution_count": 23,
   "id": "c274562d",
   "metadata": {},
   "outputs": [],
   "source": [
    "dist_array = dist.pairwise(cities_df [['lat','lon']].to_numpy())*6373"
   ]
  },
  {
   "cell_type": "code",
   "execution_count": 24,
   "id": "3befd1a5",
   "metadata": {},
   "outputs": [],
   "source": [
    "distance_df = pd.DataFrame(dist_array,  columns=cities_df.city.unique(), index=cities_df.city.unique())\n"
   ]
  },
  {
   "cell_type": "code",
   "execution_count": 25,
   "id": "9e8ee05f",
   "metadata": {},
   "outputs": [
    {
     "data": {
      "text/html": [
       "<div>\n",
       "<style scoped>\n",
       "    .dataframe tbody tr th:only-of-type {\n",
       "        vertical-align: middle;\n",
       "    }\n",
       "\n",
       "    .dataframe tbody tr th {\n",
       "        vertical-align: top;\n",
       "    }\n",
       "\n",
       "    .dataframe thead th {\n",
       "        text-align: right;\n",
       "    }\n",
       "</style>\n",
       "<table border=\"1\" class=\"dataframe\">\n",
       "  <thead>\n",
       "    <tr style=\"text-align: right;\">\n",
       "      <th></th>\n",
       "      <th>Bangalore</th>\n",
       "      <th>Mumbai</th>\n",
       "      <th>Delhi</th>\n",
       "      <th>Kolkatta</th>\n",
       "      <th>Chennai</th>\n",
       "      <th>Bhopal</th>\n",
       "    </tr>\n",
       "  </thead>\n",
       "  <tbody>\n",
       "    <tr>\n",
       "      <th>Bangalore</th>\n",
       "      <td>0.000000</td>\n",
       "      <td>845.628325</td>\n",
       "      <td>1750.664163</td>\n",
       "      <td>1582.525176</td>\n",
       "      <td>290.263116</td>\n",
       "      <td>1144.527052</td>\n",
       "    </tr>\n",
       "    <tr>\n",
       "      <th>Mumbai</th>\n",
       "      <td>845.628325</td>\n",
       "      <td>0.000000</td>\n",
       "      <td>1153.629733</td>\n",
       "      <td>1683.203283</td>\n",
       "      <td>1033.479952</td>\n",
       "      <td>661.621084</td>\n",
       "    </tr>\n",
       "    <tr>\n",
       "      <th>Delhi</th>\n",
       "      <td>1750.664163</td>\n",
       "      <td>1153.629733</td>\n",
       "      <td>0.000000</td>\n",
       "      <td>1341.809060</td>\n",
       "      <td>1768.206317</td>\n",
       "      <td>606.349722</td>\n",
       "    </tr>\n",
       "    <tr>\n",
       "      <th>Kolkatta</th>\n",
       "      <td>1582.525176</td>\n",
       "      <td>1683.203283</td>\n",
       "      <td>1341.809060</td>\n",
       "      <td>0.000000</td>\n",
       "      <td>1377.283504</td>\n",
       "      <td>1152.404181</td>\n",
       "    </tr>\n",
       "    <tr>\n",
       "      <th>Chennai</th>\n",
       "      <td>290.263116</td>\n",
       "      <td>1033.479952</td>\n",
       "      <td>1768.206317</td>\n",
       "      <td>1377.283504</td>\n",
       "      <td>0.000000</td>\n",
       "      <td>1171.476936</td>\n",
       "    </tr>\n",
       "    <tr>\n",
       "      <th>Bhopal</th>\n",
       "      <td>1144.527052</td>\n",
       "      <td>661.621084</td>\n",
       "      <td>606.349722</td>\n",
       "      <td>1152.404181</td>\n",
       "      <td>1171.476936</td>\n",
       "      <td>0.000000</td>\n",
       "    </tr>\n",
       "  </tbody>\n",
       "</table>\n",
       "</div>"
      ],
      "text/plain": [
       "             Bangalore       Mumbai        Delhi     Kolkatta      Chennai  \\\n",
       "Bangalore     0.000000   845.628325  1750.664163  1582.525176   290.263116   \n",
       "Mumbai      845.628325     0.000000  1153.629733  1683.203283  1033.479952   \n",
       "Delhi      1750.664163  1153.629733     0.000000  1341.809060  1768.206317   \n",
       "Kolkatta   1582.525176  1683.203283  1341.809060     0.000000  1377.283504   \n",
       "Chennai     290.263116  1033.479952  1768.206317  1377.283504     0.000000   \n",
       "Bhopal     1144.527052   661.621084   606.349722  1152.404181  1171.476936   \n",
       "\n",
       "                Bhopal  \n",
       "Bangalore  1144.527052  \n",
       "Mumbai      661.621084  \n",
       "Delhi       606.349722  \n",
       "Kolkatta   1152.404181  \n",
       "Chennai    1171.476936  \n",
       "Bhopal        0.000000  "
      ]
     },
     "execution_count": 25,
     "metadata": {},
     "output_type": "execute_result"
    }
   ],
   "source": [
    "distance_df"
   ]
  },
  {
   "cell_type": "code",
   "execution_count": 26,
   "id": "13315079",
   "metadata": {},
   "outputs": [],
   "source": [
    "dist_AB = []\n",
    "for couple_city in zip(requested_distances[\"from_city\"],requested_distances[\"to_city\"]):\n",
    "        dist_AB.append(distance_df.loc[couple_city[0],couple_city[1]])"
   ]
  },
  {
   "cell_type": "code",
   "execution_count": 27,
   "id": "be027e80",
   "metadata": {},
   "outputs": [],
   "source": [
    "requested_distances[\"Km\"] = dist_AB"
   ]
  },
  {
   "cell_type": "code",
   "execution_count": 28,
   "id": "9bd1db5f",
   "metadata": {},
   "outputs": [
    {
     "data": {
      "text/html": [
       "<div>\n",
       "<style scoped>\n",
       "    .dataframe tbody tr th:only-of-type {\n",
       "        vertical-align: middle;\n",
       "    }\n",
       "\n",
       "    .dataframe tbody tr th {\n",
       "        vertical-align: top;\n",
       "    }\n",
       "\n",
       "    .dataframe thead th {\n",
       "        text-align: right;\n",
       "    }\n",
       "</style>\n",
       "<table border=\"1\" class=\"dataframe\">\n",
       "  <thead>\n",
       "    <tr style=\"text-align: right;\">\n",
       "      <th></th>\n",
       "      <th>from_city</th>\n",
       "      <th>to_city</th>\n",
       "      <th>Km</th>\n",
       "    </tr>\n",
       "  </thead>\n",
       "  <tbody>\n",
       "    <tr>\n",
       "      <th>0</th>\n",
       "      <td>Bangalore</td>\n",
       "      <td>Kolkatta</td>\n",
       "      <td>1582.525176</td>\n",
       "    </tr>\n",
       "    <tr>\n",
       "      <th>1</th>\n",
       "      <td>Mumbai</td>\n",
       "      <td>Chennai</td>\n",
       "      <td>1033.479952</td>\n",
       "    </tr>\n",
       "    <tr>\n",
       "      <th>2</th>\n",
       "      <td>Delhi</td>\n",
       "      <td>Bhopal</td>\n",
       "      <td>606.349722</td>\n",
       "    </tr>\n",
       "  </tbody>\n",
       "</table>\n",
       "</div>"
      ],
      "text/plain": [
       "   from_city   to_city           Km\n",
       "0  Bangalore  Kolkatta  1582.525176\n",
       "1     Mumbai   Chennai  1033.479952\n",
       "2      Delhi    Bhopal   606.349722"
      ]
     },
     "execution_count": 28,
     "metadata": {},
     "output_type": "execute_result"
    }
   ],
   "source": [
    "requested_distances\n"
   ]
  },
  {
   "cell_type": "code",
   "execution_count": 29,
   "id": "b8e2c88b",
   "metadata": {},
   "outputs": [],
   "source": [
    "import matplotlib.pyplot as plt"
   ]
  },
  {
   "cell_type": "code",
   "execution_count": null,
   "id": "2f460092",
   "metadata": {},
   "outputs": [],
   "source": []
  },
  {
   "cell_type": "code",
   "execution_count": 31,
   "id": "29c772d4",
   "metadata": {},
   "outputs": [
    {
     "data": {
      "image/png": "[encoded data removed]",
      "text/plain": [
       "<Figure size 432x288 with 1 Axes>"
      ]
     },
     "metadata": {
      "needs_background": "light"
     },
     "output_type": "display_data"
    }
   ],
   "source": [
    "fig, ax = plt.subplots()\n",
    "\n",
    "\n",
    "\n",
    "x_pixel = cities_df_original[\"lon\"]\n",
    "y_pixel = cities_df_original[\"lat\"]\n",
    "\n",
    "x_line = requested_distances[\"from_city\"]\n",
    "y_line = requested_distances[\"to_city\"]\n",
    "xy_dist = requested_distances[\"Km\"]\n",
    "\n",
    "stdx = np.std(x_pixel)/2\n",
    "stdy = np.std(y_pixel)/2\n",
    "\n",
    "maxX = max(x_pixel+stdx)\n",
    "maxY = max(y_pixel+stdy)\n",
    "minX = min(x_pixel-stdx)\n",
    "minY = min(y_pixel-stdy)\n",
    "\n",
    "for i, txt in enumerate(cities_df[\"city\"].tolist()):\n",
    "    ax.annotate(txt, (x_pixel[i]-stdx/2, y_pixel[i]-stdy/2))\n",
    "    \n",
    "cities = cities_df_original['city']\n",
    "for i in range(len(x_line)):\n",
    "    \n",
    "    lats_longs_mini_df = cities_df_original.loc[(cities==x_line[i]) | (cities==y_line[i])]\n",
    "    lats = lats_longs_mini_df[\"lat\"].tolist()\n",
    "    longs = lats_longs_mini_df[\"lon\"].tolist()\n",
    "    plt.plot(longs, lats, 'ro-')\n",
    "\n",
    "    mid_point_x = (longs[0] + longs[1])/2\n",
    "    mid_point_y = (lats[0] + lats[1])/2\n",
    "    \n",
    "    ax.annotate(xy_dist[i].round(2), (mid_point_x,mid_point_y))\n",
    "\n",
    "plt.xlim([minX,maxX])\n",
    "plt.ylim([minY,maxY])\n",
    "plt.show()"
   ]
  },
  {
   "cell_type": "code",
   "execution_count": null,
   "id": "53100551",
   "metadata": {},
   "outputs": [],
   "source": []
  },
  {
   "cell_type": "code",
   "execution_count": null,
   "id": "74665f69",
   "metadata": {},
   "outputs": [],
   "source": []
  },
  {
   "cell_type": "code",
   "execution_count": null,
   "id": "2a6f1148",
   "metadata": {},
   "outputs": [],
   "source": []
  },
  {
   "cell_type": "code",
   "execution_count": null,
   "id": "80c8dec6",
   "metadata": {},
   "outputs": [],
   "source": []
  },
  {
   "cell_type": "code",
   "execution_count": null,
   "id": "83111dcc",
   "metadata": {},
   "outputs": [],
   "source": []
  },
  {
   "cell_type": "code",
   "execution_count": null,
   "id": "93884fd7",
   "metadata": {},
   "outputs": [],
   "source": []
  }
 ],
 "metadata": {
  "kernelspec": {
   "display_name": "Python 3 (ipykernel)",
   "language": "python",
   "name": "python3"
  },
  "language_info": {
   "codemirror_mode": {
    "name": "ipython",
    "version": 3
   },
   "file_extension": ".py",
   "mimetype": "text/x-python",
   "name": "python",
   "nbconvert_exporter": "python",
   "pygments_lexer": "ipython3",
   "version": "3.9.5"
  }
 },
 "nbformat": 4,
 "nbformat_minor": 5
}
